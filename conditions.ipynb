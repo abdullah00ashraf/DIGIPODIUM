{
 "cells": [
  {
   "cell_type": "code",
   "execution_count": 1,
   "metadata": {},
   "outputs": [
    {
     "name": "stdout",
     "output_type": "stream",
     "text": [
      "no\n"
     ]
    }
   ],
   "source": [
    "a = input(\"enter number : \")\n",
    "if a == 344:\n",
    "    print(\"yes\")\n",
    "else:\n",
    "    print(\"no\")\n",
    "\n"
   ]
  },
  {
   "cell_type": "code",
   "execution_count": 13,
   "metadata": {},
   "outputs": [
    {
     "name": "stdout",
     "output_type": "stream",
     "text": [
      "apple\n",
      "apple\n",
      "apple\n",
      "apple\n",
      "apple\n",
      "apple\n",
      "apple\n",
      "apple\n",
      "apple\n",
      "apple\n",
      "apple\n",
      "apple\n",
      "apple\n",
      "apple\n",
      "apple\n",
      "apple\n",
      "apple\n",
      "apple\n",
      "apple\n",
      "apple\n",
      "apple\n",
      "apple\n",
      "apple\n"
     ]
    }
   ],
   "source": [
    "a = \"apple\"\n",
    "for i in range(23):\n",
    "    print(a)"
   ]
  },
  {
   "cell_type": "code",
   "execution_count": 19,
   "metadata": {},
   "outputs": [
    {
     "ename": "TypeError",
     "evalue": "'<' not supported between instances of 'str' and 'int'",
     "output_type": "error",
     "traceback": [
      "\u001b[1;31m---------------------------------------------------------------------------\u001b[0m",
      "\u001b[1;31mTypeError\u001b[0m                                 Traceback (most recent call last)",
      "Cell \u001b[1;32mIn[19], line 2\u001b[0m\n\u001b[0;32m      1\u001b[0m a \u001b[38;5;241m=\u001b[39m \u001b[38;5;28minput\u001b[39m(\u001b[38;5;124m\"\u001b[39m\u001b[38;5;124menter number\u001b[39m\u001b[38;5;124m\"\u001b[39m)\n\u001b[1;32m----> 2\u001b[0m \u001b[38;5;28;01mif\u001b[39;00m \u001b[43ma\u001b[49m\u001b[43m \u001b[49m\u001b[38;5;241;43m<\u001b[39;49m\u001b[43m \u001b[49m\u001b[38;5;241;43m32\u001b[39;49m:\n\u001b[0;32m      3\u001b[0m     \u001b[38;5;28mprint\u001b[39m(a)\n\u001b[0;32m      4\u001b[0m \u001b[38;5;28;01melse\u001b[39;00m:\n",
      "\u001b[1;31mTypeError\u001b[0m: '<' not supported between instances of 'str' and 'int'"
     ]
    }
   ],
   "source": [
    "a = input(\"enter number\")\n",
    "if a < 32:\n",
    "    print(a)\n",
    "else:\n",
    "    print(\"error\")"
   ]
  },
  {
   "cell_type": "code",
   "execution_count": 28,
   "metadata": {},
   "outputs": [
    {
     "name": "stdout",
     "output_type": "stream",
     "text": [
      "grade a\n"
     ]
    }
   ],
   "source": [
    "apple = int(input(\"enter\"))\n",
    "if apple>=90:\n",
    "    print(\"grade a\")\n",
    "elif apple>=80:\n",
    "    print(\"grade b\")\n",
    "elif apple>=70:\n",
    "    print(\"grade c\")\n",
    "else:\n",
    "     print(\"error\")"
   ]
  },
  {
   "cell_type": "markdown",
   "metadata": {},
   "source": [
    "to check whether a person can vote or not"
   ]
  },
  {
   "cell_type": "code",
   "execution_count": 3,
   "metadata": {},
   "outputs": [
    {
     "name": "stdout",
     "output_type": "stream",
     "text": [
      "not eligible\n"
     ]
    }
   ],
   "source": [
    "age = int(input(\"enter age :\"))\n",
    "if age >=18:\n",
    "    print(\"eligible\")\n",
    "else:\n",
    "    print(\"not eligible\")"
   ]
  },
  {
   "cell_type": "markdown",
   "metadata": {},
   "source": [
    "to check whether two  sides of triangles are equal or not "
   ]
  },
  {
   "cell_type": "code",
   "execution_count": 27,
   "metadata": {},
   "outputs": [
    {
     "name": "stdout",
     "output_type": "stream",
     "text": [
      "yes\n"
     ]
    }
   ],
   "source": [
    "side1 = int(input(\"enter side 1 : \"))\n",
    "side2 = int(input(\"enter side 2 :\"))\n",
    "if side1 == side2:\n",
    "    print(\"yes\")\n",
    "else:\n",
    "    print(\"no\")\n"
   ]
  },
  {
   "cell_type": "markdown",
   "metadata": {},
   "source": [
    "check whether a triangle is equalateral or isocales ?"
   ]
  },
  {
   "cell_type": "code",
   "execution_count": 24,
   "metadata": {},
   "outputs": [
    {
     "name": "stdout",
     "output_type": "stream",
     "text": [
      "the triangle is neither equaletral nor isoscales\n"
     ]
    }
   ],
   "source": [
    "side1 = int(input(\"enter side1 :\"))\n",
    "side2 = int(input(\"enter side2 :\"))\n",
    "side3 = int(input(\"enter side3 :\"))\n",
    "if side1 == side2 == side3:\n",
    "    print(\"the triangle is equalateral\")\n",
    "elif side1 == side2 and side1 != side3 or side2 == side3 and side2 != side1:\n",
    "    print(\"the triangle is isoscales\")\n",
    "else:\n",
    "    print(\"the triangle is neither equaletral nor isoscales\")"
   ]
  },
  {
   "cell_type": "code",
   "execution_count": 7,
   "metadata": {},
   "outputs": [
    {
     "name": "stdout",
     "output_type": "stream",
     "text": [
      "the triangle is scalaene\n"
     ]
    }
   ],
   "source": [
    "side1 = int(input(\"enter side1 :\"))\n",
    "side2 = int(input(\"enter side2 :\"))\n",
    "side3 = int(input(\"enter side3 :\"))\n",
    "if side1 == side2 == side3:\n",
    "    print(\"the triangle is equalateral\")\n",
    "elif side1 == side2 or side2 == side3 or side3 == side1:\n",
    "    print(\"the triangle is isoscales\")\n",
    "else:\n",
    "    print(\"the triangle is scalaene\")"
   ]
  },
  {
   "cell_type": "markdown",
   "metadata": {},
   "source": [
    "check whether a character enter by user is vowel or not ?"
   ]
  },
  {
   "cell_type": "code",
   "execution_count": 41,
   "metadata": {},
   "outputs": [
    {
     "name": "stdout",
     "output_type": "stream",
     "text": [
      "no\n"
     ]
    }
   ],
   "source": [
    "str1 = input(\"enter a character\")\n",
    "list = {'a','e','i','o','u'}\n",
    "if str1 in list:\n",
    "    print(\"yes\")\n",
    "else:\n",
    "    print(\"no\")"
   ]
  },
  {
   "cell_type": "markdown",
   "metadata": {},
   "source": [
    "check whether a number is odd or even ?\n"
   ]
  },
  {
   "cell_type": "code",
   "execution_count": null,
   "metadata": {},
   "outputs": [
    {
     "name": "stdout",
     "output_type": "stream",
     "text": [
      "it is odd\n"
     ]
    }
   ],
   "source": [
    "int1 = int(input(\"enter number :\"))\n",
    "if int1 % 2 == 0:\n",
    "    print(\"it is even \")\n",
    "else:\n",
    "    print(\"it is odd\")"
   ]
  },
  {
   "cell_type": "code",
   "execution_count": 6,
   "metadata": {},
   "outputs": [
    {
     "name": "stdout",
     "output_type": "stream",
     "text": [
      "the triangle is isoscales\n"
     ]
    }
   ],
   "source": []
  }
 ],
 "metadata": {
  "kernelspec": {
   "display_name": "base",
   "language": "python",
   "name": "python3"
  },
  "language_info": {
   "codemirror_mode": {
    "name": "ipython",
    "version": 3
   },
   "file_extension": ".py",
   "mimetype": "text/x-python",
   "name": "python",
   "nbconvert_exporter": "python",
   "pygments_lexer": "ipython3",
   "version": "3.12.4"
  }
 },
 "nbformat": 4,
 "nbformat_minor": 2
}
