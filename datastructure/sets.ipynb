{
 "cells": [
  {
   "cell_type": "markdown",
   "metadata": {},
   "source": [
    "- create\n",
    "- methods and operations\n",
    "   - union\n",
    "   - intersaction\n",
    "   - symmetric difference\n",
    "   - issubset\n",
    "   - issuperset\n"
   ]
  },
  {
   "cell_type": "code",
   "execution_count": 2,
   "metadata": {},
   "outputs": [
    {
     "name": "stdout",
     "output_type": "stream",
     "text": [
      "{1, 2, 3, 4, 5, 6}\n",
      "{1, 2, 3, 4, 5, 6, 7, 8, 9, 10, 11}\n"
     ]
    }
   ],
   "source": [
    "x = {1,2,3,4,5,6}\n",
    "y = {1,2,3,4,5,6,7,8,9,10,11,10,9,8,7,6,5,4,3,2,1}\n",
    "print(x)\n",
    "print(y)"
   ]
  },
  {
   "cell_type": "code",
   "execution_count": 3,
   "metadata": {},
   "outputs": [
    {
     "name": "stdout",
     "output_type": "stream",
     "text": [
      "{'a', 'l', 'e', 'p'}\n"
     ]
    }
   ],
   "source": [
    "a = set(\"apple\")\n",
    "print(a)"
   ]
  },
  {
   "cell_type": "code",
   "execution_count": 4,
   "metadata": {},
   "outputs": [
    {
     "name": "stdout",
     "output_type": "stream",
     "text": [
      "{5, 'r', 'd', 'a', 'f'}  apple  {0, 1, 2, 3, 4, 5, 6, 7, 8, 9, 10, 11, 12, 13, 14, 15, 16, 17, 18, 19, 20, 21, 22, 23, 24, 25, 26, 27, 28, 29, 30, 31, 32, 33, 34, 35, 36, 37, 38, 39, 40, 41, 42, 43, 44}"
     ]
    }
   ],
   "source": [
    "lst = ['a','r','f','d','d',5]\n",
    "lstt = set(range(45))\n",
    "print(set(lst),end=\"  apple  \")\n",
    "print(lstt,end=\"\")"
   ]
  },
  {
   "cell_type": "code",
   "execution_count": 5,
   "metadata": {},
   "outputs": [
    {
     "name": "stdout",
     "output_type": "stream",
     "text": [
      "{0, 1, 2, 3, 4, 5, 6, 7, 8, 9, 10, 11, 'apple', 26, 30}\n"
     ]
    }
   ],
   "source": [
    "data = set()\n",
    "data.add(26)\n",
    "data.add(30)\n",
    "data.add(\"apple\")\n",
    "for i in range(12):\n",
    "    data.add(i)\n",
    "print(data)"
   ]
  },
  {
   "cell_type": "code",
   "execution_count": 7,
   "metadata": {},
   "outputs": [
    {
     "name": "stdout",
     "output_type": "stream",
     "text": [
      "{0, 1, 2, 3, 4, 5, 6, 7, 8, 9, 10, 11, 'apple', 26}\n",
      "{0, 1, 2, 3, 4, 5, 6, 7, 8, 9, 10, 11, 'apple'}\n"
     ]
    }
   ],
   "source": [
    "data.discard(30)\n",
    "print(data)\n",
    "data.remove(26)\n",
    "print(data)"
   ]
  },
  {
   "cell_type": "code",
   "execution_count": 24,
   "metadata": {},
   "outputs": [
    {
     "name": "stdout",
     "output_type": "stream",
     "text": [
      "{1, 2, 3, 4, 5}\n",
      "{32, 2, 4, 5, 6, 9, 78}\n",
      "{1, 2, 3, 68, 5, 67, 4, 23, 445}\n",
      "{32, 1, 2, 3, 4, 5, 6, 9, 78}\n",
      "{32, 1, 2, 3, 4, 5, 6, 68, 67, 9, 78, 23, 445}\n",
      "{32, 1, 2, 3, 4, 5, 6, 68, 67, 9, 78, 23, 445}\n",
      "{2, 4, 5}\n",
      "{2, 4, 5}\n",
      "{2, 4, 5}\n",
      "{1, 3}\n",
      "{1, 3}\n",
      "{32, 9, 6, 78}\n",
      "{1, 3, 6, 9, 78, 32}\n",
      "False\n",
      "False\n",
      "False\n",
      "True\n",
      "True\n"
     ]
    }
   ],
   "source": [
    "a = {1,2,3,4,5}\n",
    "b = {6,78,9,6,5,4,32,2}\n",
    "c = {3,445,5,68,23,2,1,5,67,4,2}\n",
    "print(a)\n",
    "print(b)\n",
    "print(c)\n",
    "print(a.union(b))\n",
    "print(a.union(b).union(c))\n",
    "print(a|b|c)\n",
    "print(a.intersection(b))\n",
    "print(a.intersection(b).intersection(c))\n",
    "print(a&b)\n",
    "print(a.difference(b))\n",
    "print(a-b)\n",
    "print(b-a)\n",
    "print(a^b)\n",
    "print(a<=b)\n",
    "print(a>=b)\n",
    "print(a.isdisjoint(b))\n",
    "v = {2,3}\n",
    "r = {2}\n",
    "print(v.issuperset(r))\n",
    "print(r.issubset(v))"
   ]
  }
 ],
 "metadata": {
  "kernelspec": {
   "display_name": "base",
   "language": "python",
   "name": "python3"
  },
  "language_info": {
   "codemirror_mode": {
    "name": "ipython",
    "version": 3
   },
   "file_extension": ".py",
   "mimetype": "text/x-python",
   "name": "python",
   "nbconvert_exporter": "python",
   "pygments_lexer": "ipython3",
   "version": "3.12.4"
  }
 },
 "nbformat": 4,
 "nbformat_minor": 2
}
