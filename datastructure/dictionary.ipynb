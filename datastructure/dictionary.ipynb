{
 "cells": [
  {
   "cell_type": "markdown",
   "metadata": {},
   "source": [
    "- how to create dictionaries in different ways \n",
    "- how to access key and values \n",
    "- loops in dictionary\n"
   ]
  },
  {
   "cell_type": "code",
   "execution_count": 17,
   "metadata": {},
   "outputs": [
    {
     "name": "stdout",
     "output_type": "stream",
     "text": [
      "{'name': 'john', 'class': 3, 'roll no': 4, 'age': 5}\n",
      "name  : john\n",
      "name is filled as :  john\n",
      "class  : 3\n",
      "class is filled as :  3\n",
      "roll no  : 4\n",
      "roll no is filled as :  4\n",
      "age  : 5\n",
      "age is filled as :  5\n",
      "name  :  john\n",
      "class  :  3\n",
      "roll no  :  4\n",
      "age  :  5\n"
     ]
    }
   ],
   "source": [
    "dict = {\"name\":\"john\",\n",
    "        \"class\" : 3,\n",
    "        \"roll no\":4,\n",
    "        \"age\":5\n",
    "}\n",
    "print(dict)\n",
    "for i in dict:\n",
    "    print(i, \" :\",dict[i])\n",
    "    print(i,\"is filled as : \",dict[i])\n",
    "\n",
    "for i , j in dict.items():\n",
    "    print(i ,\" : \",j)\n"
   ]
  },
  {
   "cell_type": "code",
   "execution_count": 6,
   "metadata": {},
   "outputs": [
    {
     "name": "stdout",
     "output_type": "stream",
     "text": [
      "5\n"
     ]
    }
   ],
   "source": [
    "print(dict[\"age\"])"
   ]
  },
  {
   "cell_type": "code",
   "execution_count": 14,
   "metadata": {},
   "outputs": [
    {
     "name": "stdout",
     "output_type": "stream",
     "text": [
      "{'name': 'john', 'class': 3, 'roll no': 4, 'age': 5, 'address': 'lucknow', 1: 'apple', 2: 'apple', 3: 'apple'}\n",
      "{'name': 'john', 'class': 3, 'roll no': 4, 'age': 5, 'address': 'lucknow', 1: 'apple', 2: 'apple', 3: 'apple', 'code': 3}\n"
     ]
    }
   ],
   "source": [
    "dict['address'] = 'lucknow'\n",
    "print(dict)\n",
    "for i in range(1,4):\n",
    "    dict[\"code\"] = i\n",
    "print(dict)\n"
   ]
  },
  {
   "cell_type": "code",
   "execution_count": 18,
   "metadata": {},
   "outputs": [
    {
     "name": "stdout",
     "output_type": "stream",
     "text": [
      "dict_keys(['name', 'class', 'roll no', 'age'])\n",
      "dict_values(['john', 3, 4, 5])\n",
      "dict_items([('name', 'john'), ('class', 3), ('roll no', 4), ('age', 5)])\n"
     ]
    }
   ],
   "source": [
    "print(dict.keys())\n",
    "print(dict.values())\n",
    "print(dict.items())\n"
   ]
  },
  {
   "cell_type": "markdown",
   "metadata": {},
   "source": [
    "methods of creating dictionary :\n"
   ]
  },
  {
   "cell_type": "code",
   "execution_count": 46,
   "metadata": {},
   "outputs": [
    {
     "name": "stdout",
     "output_type": "stream",
     "text": [
      "4\n",
      "[34, 43, 2323, 4]\n"
     ]
    },
    {
     "ename": "TypeError",
     "evalue": "'int' object is not callable",
     "output_type": "error",
     "traceback": [
      "\u001b[1;31m---------------------------------------------------------------------------\u001b[0m",
      "\u001b[1;31mTypeError\u001b[0m                                 Traceback (most recent call last)",
      "Cell \u001b[1;32mIn[46], line 7\u001b[0m\n\u001b[0;32m      5\u001b[0m \u001b[38;5;28mprint\u001b[39m(temp[\u001b[38;5;124m'\u001b[39m\u001b[38;5;124mlucknow\u001b[39m\u001b[38;5;124m'\u001b[39m][\u001b[38;5;241m1\u001b[39m])\n\u001b[0;32m      6\u001b[0m \u001b[38;5;28mprint\u001b[39m(temp[\u001b[38;5;124m'\u001b[39m\u001b[38;5;124mdelhi\u001b[39m\u001b[38;5;124m'\u001b[39m])\n\u001b[1;32m----> 7\u001b[0m \u001b[38;5;28mprint\u001b[39m(\u001b[38;5;28;43msum\u001b[39;49m\u001b[43m(\u001b[49m\u001b[43mtemp\u001b[49m\u001b[43m[\u001b[49m\u001b[38;5;124;43m'\u001b[39;49m\u001b[38;5;124;43mdelhi\u001b[39;49m\u001b[38;5;124;43m'\u001b[39;49m\u001b[43m]\u001b[49m\u001b[43m)\u001b[49m \u001b[38;5;241m/\u001b[39m \u001b[38;5;28mlen\u001b[39m(temp[\u001b[38;5;124m'\u001b[39m\u001b[38;5;124mdelhi\u001b[39m\u001b[38;5;124m'\u001b[39m]))\n",
      "\u001b[1;31mTypeError\u001b[0m: 'int' object is not callable"
     ]
    }
   ],
   "source": [
    "temp = {\n",
    "    'lucknow' : [3,4,56,76],\n",
    "    'delhi' : [34,43,2323,4]\n",
    "}\n",
    "print(temp['lucknow'][1])\n",
    "print(temp['delhi'])\n",
    "print(sum(temp['delhi']) / len(temp['delhi']))\n",
    "\n",
    "\n",
    "\n"
   ]
  },
  {
   "cell_type": "code",
   "execution_count": 8,
   "metadata": {},
   "outputs": [
    {
     "name": "stdout",
     "output_type": "stream",
     "text": [
      "{'name': 'john', 'enrolled_class': '3', 'age': '4', 'roll_no': 23}\n"
     ]
    }
   ],
   "source": [
    "info = dict(name = 'john',enrolled_class = '3',age = '4',roll_no = 23)\n",
    "print(info)"
   ]
  },
  {
   "cell_type": "code",
   "execution_count": 10,
   "metadata": {},
   "outputs": [
    {
     "name": "stdout",
     "output_type": "stream",
     "text": [
      "{'names': 'abd', 'contact': 789, 'subjects': 'khgf'}\n"
     ]
    }
   ],
   "source": [
    "num = 0\n",
    "num = int(input(\"enter no of students to be registered :\"))\n",
    "for i in range(1,num+1):\n",
    "    name = str(input(\"enter your name :\"))\n",
    "    phone = int(input(\"enter your phone number : \"))\n",
    "    sub = str(input(\"enter 1 subject:\"))\n",
    "    sub2 = str(input(\"enter 2 subject:\"))\n",
    "info = dict(names = name , contact = phone , subjects = sub)\n",
    "print(info)\n"
   ]
  },
  {
   "cell_type": "code",
   "execution_count": null,
   "metadata": {},
   "outputs": [],
   "source": [
    "inf0 = dict(name = input(\"enter your name :\"))"
   ]
  },
  {
   "cell_type": "code",
   "execution_count": 17,
   "metadata": {},
   "outputs": [
    {
     "name": "stdout",
     "output_type": "stream",
     "text": [
      "{'emp001': {'name': 'john', 'age': 34, 'dep': 'hr'}, 'emp002': {'name': 'emma', 'age': 63, 'dep': 'IT'}}   "
     ]
    }
   ],
   "source": [
    "company = {\n",
    "    'emp001' : {'name':'john','age': 34,'dep': 'hr'},\n",
    "    'emp002' : {'name':'emma','age':63,'dep':'IT'}\n",
    "}\n",
    "print(company,end=\"   \")"
   ]
  },
  {
   "cell_type": "code",
   "execution_count": 25,
   "metadata": {},
   "outputs": [
    {
     "name": "stdout",
     "output_type": "stream",
     "text": [
      "{2: {'name': 'jdl', 'age': 32, 'department': 'ghc'}}\n",
      "{2: {'name': 'jdl', 'age': 32, 'department': 'ghc'}}\n"
     ]
    }
   ],
   "source": [
    "from pprint import pp\n",
    "emp = 0\n",
    "emp = int(input(\"enter no of employes to be enrolled : \"))\n",
    "for i in range(1,emp+1):\n",
    "    name = str(input(\"enter your name :\"))\n",
    "    age = int(input(\"enter your age : \"))\n",
    "    dept = str(input(\"enter your department : \"))\n",
    "for i in range(1,emp+1):\n",
    "    comp = {\n",
    "        i : {'name': name, 'age' : age,'department':dept}\n",
    "    }\n",
    "pp(comp)"
   ]
  },
  {
   "cell_type": "code",
   "execution_count": 32,
   "metadata": {},
   "outputs": [
    {
     "name": "stdout",
     "output_type": "stream",
     "text": [
      "{1: {'name': 'ad', 'age': 32, 'department': 'df'},\n",
      " 2: {'name': 'ddf', 'age': 32, 'department': 'dfds'},\n",
      " 3: {'name': 'dfw', 'age': 54, 'department': 'sdf'}}\n"
     ]
    }
   ],
   "source": [
    "from pprint import pp\n",
    "\n",
    "# Initialize an empty dictionary to store employee data\n",
    "employees = {}\n",
    "\n",
    "# Get the number of employees to be enrolled\n",
    "emp = int(input(\"Enter the number of employees to be enrolled: \"))\n",
    "\n",
    "# Loop to collect data for each employee\n",
    "for i in range(1, emp + 1):\n",
    "    name = input(f\"Enter the name of employee {i}: \")\n",
    "    age = int(input(f\"Enter the age of employee {i}: \"))\n",
    "    dept = input(f\"Enter the department of employee {i}: \")\n",
    "\n",
    "    # Store each employee's data in the dictionary with 'i' as the unique key\n",
    "    employees[i] = {'name': name, 'age': age, 'department': dept}\n",
    "\n",
    "# Print the final dictionary with all employee data\n",
    "pp(employees)\n"
   ]
  }
 ],
 "metadata": {
  "kernelspec": {
   "display_name": "base",
   "language": "python",
   "name": "python3"
  },
  "language_info": {
   "codemirror_mode": {
    "name": "ipython",
    "version": 3
   },
   "file_extension": ".py",
   "mimetype": "text/x-python",
   "name": "python",
   "nbconvert_exporter": "python",
   "pygments_lexer": "ipython3",
   "version": "3.12.4"
  }
 },
 "nbformat": 4,
 "nbformat_minor": 2
}
