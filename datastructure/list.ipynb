{
 "cells": [
  {
   "cell_type": "code",
   "execution_count": 15,
   "metadata": {},
   "outputs": [
    {
     "name": "stdout",
     "output_type": "stream",
     "text": [
      "videos\n"
     ]
    }
   ],
   "source": [
    "apps = ['itune','cod','gallery','videos','gemini','connect','zomato','aelo','algomyth']\n",
    "print(apps[-6])\n",
    "\n",
    "\n"
   ]
  },
  {
   "cell_type": "code",
   "execution_count": 16,
   "metadata": {},
   "outputs": [
    {
     "name": "stdout",
     "output_type": "stream",
     "text": [
      "['videos', 'gemini', 'connect', 'zomato', 'aelo', 'algomyth']\n",
      "['cod', 'gallery', 'videos']\n",
      "['videos', 'aelo']\n"
     ]
    }
   ],
   "source": [
    "appss = ['itune','cod','gallery','videos','gemini','connect','zomato','aelo','algomyth']\n",
    "print(appss[3:23])\n",
    "print(appss[-8:-5])\n",
    "print(appss[3::4])\n",
    "\n",
    "\n"
   ]
  },
  {
   "cell_type": "markdown",
   "metadata": {},
   "source": [
    "write a program to print a number from 0 to 10 using a for loop "
   ]
  },
  {
   "cell_type": "code",
   "execution_count": 17,
   "metadata": {},
   "outputs": [
    {
     "name": "stdout",
     "output_type": "stream",
     "text": [
      "1 2 3 4 5 6 7 8 9 10 "
     ]
    }
   ],
   "source": [
    "for i in range(1,11):\n",
    "    print(i , end=\" \")"
   ]
  },
  {
   "cell_type": "markdown",
   "metadata": {},
   "source": [
    "write a program to print the number using a while loop "
   ]
  },
  {
   "cell_type": "code",
   "execution_count": 18,
   "metadata": {},
   "outputs": [
    {
     "ename": "",
     "evalue": "",
     "output_type": "error",
     "traceback": [
      "\u001b[1;31mCannot execute code, session has been disposed. Please try restarting the Kernel."
     ]
    },
    {
     "ename": "",
     "evalue": "",
     "output_type": "error",
     "traceback": [
      "\u001b[1;31mCannot execute code, session has been disposed. Please try restarting the Kernel. \n",
      "\u001b[1;31mView Jupyter <a href='command:jupyter.viewOutput'>log</a> for further details."
     ]
    }
   ],
   "source": [
    "num1 = int(input(\"enter the starting number :\"))\n",
    "num2 = int(input(\"enter the  number upto which to print the number :\"))\n",
    "num3 = num2+1\n",
    "for i in range(num1,num3):\n",
    "    print(i)"
   ]
  },
  {
   "cell_type": "markdown",
   "metadata": {},
   "source": [
    "write a program to print the multiplication table using a while loop "
   ]
  },
  {
   "cell_type": "code",
   "execution_count": 16,
   "metadata": {},
   "outputs": [
    {
     "name": "stdout",
     "output_type": "stream",
     "text": [
      "84047 x 1 = 84047\n",
      "84047 x 2 = 168094\n",
      "84047 x 3 = 252141\n",
      "84047 x 4 = 336188\n",
      "84047 x 5 = 420235\n",
      "84047 x 6 = 504282\n",
      "84047 x 7 = 588329\n",
      "84047 x 8 = 672376\n",
      "84047 x 9 = 756423\n",
      "84047 x 10 = 840470\n"
     ]
    }
   ],
   "source": [
    "num_1 = int(input(\"enter the number to write the table : \"))\n",
    "for i in range(1, 11):\n",
    "    print(f\"{num_1} x {i} = {num_1 * i}\")\n"
   ]
  },
  {
   "cell_type": "markdown",
   "metadata": {},
   "source": [
    "write a program to check if a given number is prime or not using a while loop "
   ]
  },
  {
   "cell_type": "code",
   "execution_count": 29,
   "metadata": {},
   "outputs": [
    {
     "name": "stdout",
     "output_type": "stream",
     "text": [
      "no\n"
     ]
    }
   ],
   "source": [
    "number_1 = int(input(\"enter the number to check : \"))\n",
    "while number_1 % 2 == 0:\n",
    "    print(number_1,\"yes the number is prime : \")\n",
    "    break\n",
    "else:\n",
    "    print(\"no\")"
   ]
  },
  {
   "cell_type": "markdown",
   "metadata": {},
   "source": [
    "write a program to calculate the factorial of a number using a for loop "
   ]
  },
  {
   "cell_type": "code",
   "execution_count": 10,
   "metadata": {},
   "outputs": [
    {
     "name": "stdout",
     "output_type": "stream",
     "text": [
      "720\n"
     ]
    }
   ],
   "source": [
    "n = int(input(\"enter number to find factorial :\"))\n",
    "def factorial(n):\n",
    "    result = 1\n",
    "    for i in range ( 1 ,n+1):\n",
    "        result *= i\n",
    "    return result\n",
    "result = factorial(n)\n",
    "print(result)\n",
    "\n",
    "\n"
   ]
  },
  {
   "cell_type": "markdown",
   "metadata": {},
   "source": [
    "write a program to print the fibonancial series upto a limit using a for loop "
   ]
  },
  {
   "cell_type": "code",
   "execution_count": 9,
   "metadata": {},
   "outputs": [
    {
     "name": "stdout",
     "output_type": "stream",
     "text": [
      "0 1 1 2 3 5 "
     ]
    }
   ],
   "source": [
    "def fibonacci_series(limit):\n",
    "    a, b = 0, 1\n",
    "    for _ in range(limit):\n",
    "        print(a, end=\" \")  \n",
    "        a, b = b, a + b    \n",
    "limit = int(input(\"Enter the number of terms: \"))\n",
    "fibonacci_series(limit)\n"
   ]
  },
  {
   "cell_type": "markdown",
   "metadata": {},
   "source": [
    ";write a program to reverse a given string using a while loop"
   ]
  },
  {
   "cell_type": "code",
   "execution_count": 18,
   "metadata": {},
   "outputs": [
    {
     "name": "stdout",
     "output_type": "stream",
     "text": [
      "Reversed string: eda\n"
     ]
    }
   ],
   "source": [
    "\n",
    "def reverse_string(input_string):\n",
    "    reversed_string = \"\"\n",
    "    index = len(input_string) -1\n",
    "    while index >= 0:\n",
    "        reversed_string += input_string[index]\n",
    "        index -= 1  \n",
    "    \n",
    "    return reversed_string\n",
    "input_string = input(\"Enter a string to reverse: \")\n",
    "print(\"Reversed string:\", reverse_string(input_string))\n"
   ]
  },
  {
   "cell_type": "markdown",
   "metadata": {},
   "source": [
    "write a program to find the largest element in an array using a for loop "
   ]
  },
  {
   "cell_type": "code",
   "execution_count": null,
   "metadata": {},
   "outputs": [],
   "source": []
  },
  {
   "cell_type": "markdown",
   "metadata": {},
   "source": [
    "write a program to print the ASCII value of all uppercase letters using a for loop "
   ]
  },
  {
   "cell_type": "markdown",
   "metadata": {},
   "source": [
    "write a program to check if a given string is palindrome using a for loop "
   ]
  },
  {
   "cell_type": "markdown",
   "metadata": {},
   "source": [
    "write a program to the average of a list of number using a for loop "
   ]
  },
  {
   "cell_type": "markdown",
   "metadata": {},
   "source": [
    "write a program to find the smallest element in an array using a while loop "
   ]
  },
  {
   "cell_type": "markdown",
   "metadata": {},
   "source": [
    "write a program to calculate the sum of a digits of number using a for loop"
   ]
  },
  {
   "cell_type": "markdown",
   "metadata": {},
   "source": [
    "write a program to check if a given list of years has a leap year using a while loop "
   ]
  },
  {
   "cell_type": "markdown",
   "metadata": {},
   "source": [
    "write a program to print the multiplication table of numbers from 1 to 5 using a for loop "
   ]
  },
  {
   "cell_type": "markdown",
   "metadata": {},
   "source": [
    "write a program to count the number of vowels in a given string using a for loop "
   ]
  },
  {
   "cell_type": "markdown",
   "metadata": {},
   "source": [
    "write a program to find the smallest and largest element in an array using a for loop "
   ]
  },
  {
   "cell_type": "markdown",
   "metadata": {},
   "source": [
    "write a program to reverse the words in a sentence using a while loop "
   ]
  },
  {
   "cell_type": "markdown",
   "metadata": {},
   "source": [
    "methods of list \n",
    "append: Adds an element to the end of a list (e.g., list.append(element)).\n",
    "insert: Inserts an element at a specified position in the list (e.g., list.insert(index, element)).\n",
    "pop: Removes and returns an element at a specified position (default is the last element) (e.g., list.pop(index)).\n",
    "delete: Removes an element or slice from the list (e.g., del list[index]).\n",
    "sort: Sorts the elements of a list in place (e.g., list.sort() or sorted(list) for a new sorted list).\n",
    "copy: Creates a shallow copy of the list (e.g., list.copy()).\n",
    "extend: Extends the list by appending elements from another iterable (e.g., list.extend(iterable)).\n",
    "clear: Removes all elements from a list, making it empty (e.g., list.clear())."
   ]
  },
  {
   "cell_type": "code",
   "execution_count": 14,
   "metadata": {},
   "outputs": [
    {
     "name": "stdout",
     "output_type": "stream",
     "text": [
      "['apple', 'a', 'p', 'p', 'l', 'e']\n",
      "['apple', 'a', 'p', 'mango', 'p', 'l', 'e']\n",
      "['apple', 'a', 'p', 'mango', 'l', 'e']\n",
      "['a', 'p', 'mango', 'l', 'e']\n"
     ]
    },
    {
     "ename": "NameError",
     "evalue": "name 'apps' is not defined",
     "output_type": "error",
     "traceback": [
      "\u001b[1;31m---------------------------------------------------------------------------\u001b[0m",
      "\u001b[1;31mNameError\u001b[0m                                 Traceback (most recent call last)",
      "Cell \u001b[1;32mIn[14], line 12\u001b[0m\n\u001b[0;32m     10\u001b[0m appss\u001b[38;5;241m.\u001b[39mremove(\u001b[38;5;124m'\u001b[39m\u001b[38;5;124mapple\u001b[39m\u001b[38;5;124m'\u001b[39m)\n\u001b[0;32m     11\u001b[0m \u001b[38;5;28mprint\u001b[39m(appss)\n\u001b[1;32m---> 12\u001b[0m \u001b[43mapps\u001b[49m\u001b[38;5;241m.\u001b[39msort()\n\u001b[0;32m     13\u001b[0m \u001b[38;5;28mprint\u001b[39m(apple)\n",
      "\u001b[1;31mNameError\u001b[0m: name 'apps' is not defined"
     ]
    }
   ],
   "source": [
    "appss = []\n",
    "appss.append('apple')\n",
    "for i in 'apple':\n",
    "    appss.append(i)\n",
    "print(appss)\n",
    "appss.insert(3,'mango')\n",
    "print(appss)\n",
    "appss.pop(4)\n",
    "print(appss)\n",
    "appss.remove('apple')\n",
    "print(appss)\n",
    "appps.sort()\n",
    "print(appps)\n"
   ]
  },
  {
   "cell_type": "code",
   "execution_count": 1,
   "metadata": {},
   "outputs": [
    {
     "name": "stdout",
     "output_type": "stream",
     "text": [
      "['apple', 'mango', 'banana', 'aalu', 'tamatar', 'karela']\n"
     ]
    }
   ],
   "source": [
    "frt = ['apple','mango','banana',]\n",
    "veg = ['aalu','tamatar','karela']\n",
    "frt.extend(veg)\n",
    "print(frt)"
   ]
  },
  {
   "cell_type": "markdown",
   "metadata": {},
   "source": []
  },
  {
   "cell_type": "markdown",
   "metadata": {},
   "source": []
  }
 ],
 "metadata": {
  "kernelspec": {
   "display_name": "base",
   "language": "python",
   "name": "python3"
  },
  "language_info": {
   "codemirror_mode": {
    "name": "ipython",
    "version": 3
   },
   "file_extension": ".py",
   "mimetype": "text/x-python",
   "name": "python",
   "nbconvert_exporter": "python",
   "pygments_lexer": "ipython3",
   "version": "3.12.4"
  }
 },
 "nbformat": 4,
 "nbformat_minor": 2
}
